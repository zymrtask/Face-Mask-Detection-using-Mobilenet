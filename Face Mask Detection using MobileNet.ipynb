{
 "cells": [
  {
   "cell_type": "code",
   "execution_count": 1,
   "metadata": {},
   "outputs": [
    {
     "name": "stdout",
     "output_type": "stream",
     "text": [
      "Collecting tensorflow\n",
      "  Downloading tensorflow-2.3.0-cp38-cp38-manylinux2010_x86_64.whl (320.5 MB)\n",
      "\u001b[K     |████████████████████████████████| 320.5 MB 792 bytes/s  0:00:01    |█▉                              | 18.1 MB 81 kB/s eta 1:01:34     |█████                           | 51.2 MB 196 kB/s eta 0:22:54     |████████▍                       | 83.8 MB 32 kB/s eta 2:02:55     |█████████▍                      | 93.6 MB 77 kB/s eta 0:48:57     |██████████████▋                 | 146.8 MB 110 kB/s eta 0:26:12     |█████████████████████████████▉  | 298.7 MB 1.9 MB/s eta 0:00:12\n",
      "\u001b[?25hCollecting tensorboard<3,>=2.3.0\n",
      "  Downloading tensorboard-2.3.0-py3-none-any.whl (6.8 MB)\n",
      "\u001b[K     |████████████████████████████████| 6.8 MB 511 kB/s eta 0:00:01\n",
      "\u001b[?25hCollecting tensorflow-estimator<2.4.0,>=2.3.0\n",
      "  Downloading tensorflow_estimator-2.3.0-py2.py3-none-any.whl (459 kB)\n",
      "\u001b[K     |████████████████████████████████| 459 kB 135 kB/s eta 0:00:01\n",
      "\u001b[?25hRequirement already satisfied: wrapt>=1.11.1 in ./anaconda3/lib/python3.8/site-packages (from tensorflow) (1.11.2)\n",
      "Requirement already satisfied: numpy<1.19.0,>=1.16.0 in ./anaconda3/lib/python3.8/site-packages (from tensorflow) (1.18.5)\n",
      "Collecting grpcio>=1.8.6\n",
      "  Downloading grpcio-1.31.0-cp38-cp38-manylinux2014_x86_64.whl (3.4 MB)\n",
      "\u001b[K     |████████████████████████████████| 3.4 MB 47 kB/s eta 0:00:013     |███████████████████████▊        | 2.5 MB 213 kB/s eta 0:00:05\n",
      "\u001b[?25hCollecting keras-preprocessing<1.2,>=1.1.1\n",
      "  Downloading Keras_Preprocessing-1.1.2-py2.py3-none-any.whl (42 kB)\n",
      "\u001b[K     |████████████████████████████████| 42 kB 269 kB/s eta 0:00:01\n",
      "\u001b[?25hCollecting termcolor>=1.1.0\n",
      "  Downloading termcolor-1.1.0.tar.gz (3.9 kB)\n",
      "Requirement already satisfied: h5py<2.11.0,>=2.10.0 in ./anaconda3/lib/python3.8/site-packages (from tensorflow) (2.10.0)\n",
      "Collecting gast==0.3.3\n",
      "  Downloading gast-0.3.3-py2.py3-none-any.whl (9.7 kB)\n",
      "Requirement already satisfied: wheel>=0.26 in ./anaconda3/lib/python3.8/site-packages (from tensorflow) (0.34.2)\n",
      "Collecting astunparse==1.6.3\n",
      "  Downloading astunparse-1.6.3-py2.py3-none-any.whl (12 kB)\n",
      "Collecting absl-py>=0.7.0\n",
      "  Downloading absl_py-0.10.0-py3-none-any.whl (127 kB)\n",
      "\u001b[K     |████████████████████████████████| 127 kB 307 kB/s eta 0:00:01\n",
      "\u001b[?25hCollecting protobuf>=3.9.2\n",
      "  Downloading protobuf-3.13.0-cp38-cp38-manylinux1_x86_64.whl (1.3 MB)\n",
      "\u001b[K     |████████████████████████████████| 1.3 MB 253 kB/s eta 0:00:01\n",
      "\u001b[?25hCollecting scipy==1.4.1\n",
      "  Downloading scipy-1.4.1-cp38-cp38-manylinux1_x86_64.whl (26.0 MB)\n",
      "\u001b[K     |████████████████████████████████| 26.0 MB 151 kB/s eta 0:00:01\n",
      "\u001b[?25hCollecting google-pasta>=0.1.8\n",
      "  Downloading google_pasta-0.2.0-py3-none-any.whl (57 kB)\n",
      "\u001b[K     |████████████████████████████████| 57 kB 208 kB/s eta 0:00:01\n",
      "\u001b[?25hCollecting opt-einsum>=2.3.2\n",
      "  Downloading opt_einsum-3.3.0-py3-none-any.whl (65 kB)\n",
      "\u001b[K     |████████████████████████████████| 65 kB 315 kB/s eta 0:00:01\n",
      "\u001b[?25hRequirement already satisfied: six>=1.12.0 in ./anaconda3/lib/python3.8/site-packages (from tensorflow) (1.15.0)\n",
      "Collecting google-auth<2,>=1.6.3\n",
      "  Downloading google_auth-1.20.1-py2.py3-none-any.whl (91 kB)\n",
      "\u001b[K     |████████████████████████████████| 91 kB 1.0 MB/s eta 0:00:01\n",
      "\u001b[?25hCollecting markdown>=2.6.8\n",
      "  Downloading Markdown-3.2.2-py3-none-any.whl (88 kB)\n",
      "\u001b[K     |████████████████████████████████| 88 kB 210 kB/s eta 0:00:01\n",
      "\u001b[?25hRequirement already satisfied: requests<3,>=2.21.0 in ./anaconda3/lib/python3.8/site-packages (from tensorboard<3,>=2.3.0->tensorflow) (2.24.0)\n",
      "Collecting tensorboard-plugin-wit>=1.6.0\n",
      "  Downloading tensorboard_plugin_wit-1.7.0-py3-none-any.whl (779 kB)\n",
      "\u001b[K     |████████████████████████████████| 779 kB 338 kB/s eta 0:00:01\n",
      "\u001b[?25hRequirement already satisfied: werkzeug>=0.11.15 in ./anaconda3/lib/python3.8/site-packages (from tensorboard<3,>=2.3.0->tensorflow) (1.0.1)\n",
      "Collecting google-auth-oauthlib<0.5,>=0.4.1\n",
      "  Downloading google_auth_oauthlib-0.4.1-py2.py3-none-any.whl (18 kB)\n",
      "Requirement already satisfied: setuptools>=41.0.0 in ./anaconda3/lib/python3.8/site-packages (from tensorboard<3,>=2.3.0->tensorflow) (49.2.0.post20200714)\n",
      "Collecting pyasn1-modules>=0.2.1\n",
      "  Downloading pyasn1_modules-0.2.8-py2.py3-none-any.whl (155 kB)\n",
      "\u001b[K     |████████████████████████████████| 155 kB 165 kB/s eta 0:00:01\n",
      "\u001b[?25hCollecting rsa<5,>=3.1.4; python_version >= \"3.5\"\n",
      "  Downloading rsa-4.6-py3-none-any.whl (47 kB)\n",
      "\u001b[K     |████████████████████████████████| 47 kB 489 kB/s eta 0:00:01\n",
      "\u001b[?25hCollecting cachetools<5.0,>=2.0.0\n",
      "  Downloading cachetools-4.1.1-py3-none-any.whl (10 kB)\n",
      "Requirement already satisfied: urllib3!=1.25.0,!=1.25.1,<1.26,>=1.21.1 in ./anaconda3/lib/python3.8/site-packages (from requests<3,>=2.21.0->tensorboard<3,>=2.3.0->tensorflow) (1.25.9)\n",
      "Requirement already satisfied: chardet<4,>=3.0.2 in ./anaconda3/lib/python3.8/site-packages (from requests<3,>=2.21.0->tensorboard<3,>=2.3.0->tensorflow) (3.0.4)\n",
      "Requirement already satisfied: idna<3,>=2.5 in ./anaconda3/lib/python3.8/site-packages (from requests<3,>=2.21.0->tensorboard<3,>=2.3.0->tensorflow) (2.10)\n",
      "Requirement already satisfied: certifi>=2017.4.17 in ./anaconda3/lib/python3.8/site-packages (from requests<3,>=2.21.0->tensorboard<3,>=2.3.0->tensorflow) (2020.6.20)\n",
      "Collecting requests-oauthlib>=0.7.0\n",
      "  Downloading requests_oauthlib-1.3.0-py2.py3-none-any.whl (23 kB)\n",
      "Collecting pyasn1<0.5.0,>=0.4.6\n",
      "  Downloading pyasn1-0.4.8-py2.py3-none-any.whl (77 kB)\n",
      "\u001b[K     |████████████████████████████████| 77 kB 573 kB/s eta 0:00:01\n",
      "\u001b[?25hCollecting oauthlib>=3.0.0\n",
      "  Downloading oauthlib-3.1.0-py2.py3-none-any.whl (147 kB)\n",
      "\u001b[K     |████████████████████████████████| 147 kB 454 kB/s eta 0:00:01\n",
      "\u001b[?25hBuilding wheels for collected packages: termcolor\n",
      "  Building wheel for termcolor (setup.py) ... \u001b[?25ldone\n",
      "\u001b[?25h  Created wheel for termcolor: filename=termcolor-1.1.0-py3-none-any.whl size=4830 sha256=3bbc2692738b5aa2ad27229abf31ce23a0c33b5475da7523ccda3a6566e091a5\n",
      "  Stored in directory: /home/vivek.m@ah.zymrinc.com/.cache/pip/wheels/a0/16/9c/5473df82468f958445479c59e784896fa24f4a5fc024b0f501\n",
      "Successfully built termcolor\n",
      "Installing collected packages: grpcio, pyasn1, pyasn1-modules, rsa, cachetools, google-auth, markdown, absl-py, protobuf, tensorboard-plugin-wit, oauthlib, requests-oauthlib, google-auth-oauthlib, tensorboard, tensorflow-estimator, keras-preprocessing, termcolor, gast, astunparse, scipy, google-pasta, opt-einsum, tensorflow\n",
      "  Attempting uninstall: scipy\n",
      "    Found existing installation: scipy 1.5.0\n",
      "    Uninstalling scipy-1.5.0:\n",
      "      Successfully uninstalled scipy-1.5.0\n",
      "Successfully installed absl-py-0.10.0 astunparse-1.6.3 cachetools-4.1.1 gast-0.3.3 google-auth-1.20.1 google-auth-oauthlib-0.4.1 google-pasta-0.2.0 grpcio-1.31.0 keras-preprocessing-1.1.2 markdown-3.2.2 oauthlib-3.1.0 opt-einsum-3.3.0 protobuf-3.13.0 pyasn1-0.4.8 pyasn1-modules-0.2.8 requests-oauthlib-1.3.0 rsa-4.6 scipy-1.4.1 tensorboard-2.3.0 tensorboard-plugin-wit-1.7.0 tensorflow-2.3.0 tensorflow-estimator-2.3.0 termcolor-1.1.0\n"
     ]
    }
   ],
   "source": [
    "!pip3 install tensorflow"
   ]
  },
  {
   "cell_type": "code",
   "execution_count": 2,
   "metadata": {},
   "outputs": [
    {
     "name": "stdout",
     "output_type": "stream",
     "text": [
      "2.3.0\n"
     ]
    }
   ],
   "source": [
    "import tensorflow as tf\n",
    "print(tf.__version__)"
   ]
  },
  {
   "cell_type": "code",
   "execution_count": 3,
   "metadata": {},
   "outputs": [
    {
     "name": "stdout",
     "output_type": "stream",
     "text": [
      "Collecting keras==2.3.1\n",
      "  Downloading Keras-2.3.1-py2.py3-none-any.whl (377 kB)\n",
      "\u001b[K     |████████████████████████████████| 377 kB 157 kB/s eta 0:00:01\n",
      "\u001b[?25hRequirement already satisfied: h5py in ./anaconda3/lib/python3.8/site-packages (from keras==2.3.1) (2.10.0)\n",
      "Requirement already satisfied: six>=1.9.0 in ./anaconda3/lib/python3.8/site-packages (from keras==2.3.1) (1.15.0)\n",
      "Requirement already satisfied: pyyaml in ./anaconda3/lib/python3.8/site-packages (from keras==2.3.1) (5.3.1)\n",
      "Requirement already satisfied: keras-preprocessing>=1.0.5 in ./anaconda3/lib/python3.8/site-packages (from keras==2.3.1) (1.1.2)\n",
      "Requirement already satisfied: scipy>=0.14 in ./anaconda3/lib/python3.8/site-packages (from keras==2.3.1) (1.4.1)\n",
      "Requirement already satisfied: numpy>=1.9.1 in ./anaconda3/lib/python3.8/site-packages (from keras==2.3.1) (1.18.5)\n",
      "Collecting keras-applications>=1.0.6\n",
      "  Downloading Keras_Applications-1.0.8-py3-none-any.whl (50 kB)\n",
      "\u001b[K     |████████████████████████████████| 50 kB 358 kB/s eta 0:00:01\n",
      "\u001b[?25hInstalling collected packages: keras-applications, keras\n",
      "Successfully installed keras-2.3.1 keras-applications-1.0.8\n"
     ]
    }
   ],
   "source": [
    "!pip3 install keras==2.3.1"
   ]
  },
  {
   "cell_type": "code",
   "execution_count": 4,
   "metadata": {},
   "outputs": [
    {
     "name": "stdout",
     "output_type": "stream",
     "text": [
      "Collecting imutils==0.5.3\n",
      "  Downloading imutils-0.5.3.tar.gz (17 kB)\n",
      "Building wheels for collected packages: imutils\n",
      "  Building wheel for imutils (setup.py) ... \u001b[?25ldone\n",
      "\u001b[?25h  Created wheel for imutils: filename=imutils-0.5.3-py3-none-any.whl size=25850 sha256=cd4157fd5c04846e2377c40dc35cb015338ef90d05ef318191c138dafed49250\n",
      "  Stored in directory: /home/vivek.m@ah.zymrinc.com/.cache/pip/wheels/c8/d6/0f/b0c3892b70c59f0d202f8619a449f7d14cb839a0af2f943869\n",
      "Successfully built imutils\n",
      "Installing collected packages: imutils\n",
      "Successfully installed imutils-0.5.3\n"
     ]
    }
   ],
   "source": [
    "!pip3 install imutils==0.5.3"
   ]
  },
  {
   "cell_type": "code",
   "execution_count": 5,
   "metadata": {},
   "outputs": [
    {
     "name": "stdout",
     "output_type": "stream",
     "text": [
      "Collecting numpy==1.18.2\n",
      "  Downloading numpy-1.18.2-cp38-cp38-manylinux1_x86_64.whl (20.6 MB)\n",
      "\u001b[K     |████████████████████████████████| 20.6 MB 380 kB/s eta 0:00:01\n",
      "\u001b[?25hInstalling collected packages: numpy\n",
      "  Attempting uninstall: numpy\n",
      "    Found existing installation: numpy 1.18.5\n",
      "    Uninstalling numpy-1.18.5:\n",
      "      Successfully uninstalled numpy-1.18.5\n",
      "Successfully installed numpy-1.18.2\n"
     ]
    }
   ],
   "source": [
    "!pip3 install numpy==1.18.2"
   ]
  },
  {
   "cell_type": "code",
   "execution_count": 6,
   "metadata": {},
   "outputs": [
    {
     "name": "stdout",
     "output_type": "stream",
     "text": [
      "Collecting opencv-python==4.2.0.*\n",
      "  Downloading opencv_python-4.2.0.34-cp38-cp38-manylinux1_x86_64.whl (28.2 MB)\n",
      "\u001b[K     |████████████████████████████████| 28.2 MB 131 kB/s eta 0:00:01\n",
      "\u001b[?25hRequirement already satisfied: numpy>=1.17.3 in ./anaconda3/lib/python3.8/site-packages (from opencv-python==4.2.0.*) (1.18.2)\n",
      "Installing collected packages: opencv-python\n",
      "Successfully installed opencv-python-4.2.0.34\n"
     ]
    }
   ],
   "source": [
    "!pip install opencv-python==4.2.0.*"
   ]
  },
  {
   "cell_type": "code",
   "execution_count": 7,
   "metadata": {},
   "outputs": [
    {
     "name": "stdout",
     "output_type": "stream",
     "text": [
      "Collecting matplotlib==3.2.1\n",
      "  Downloading matplotlib-3.2.1-cp38-cp38-manylinux1_x86_64.whl (12.4 MB)\n",
      "\u001b[K     |████████████████████████████████| 12.4 MB 192 kB/s eta 0:00:01    |███████                         | 2.7 MB 57 kB/s eta 0:02:49\n",
      "\u001b[?25hRequirement already satisfied: cycler>=0.10 in ./anaconda3/lib/python3.8/site-packages (from matplotlib==3.2.1) (0.10.0)\n",
      "Requirement already satisfied: kiwisolver>=1.0.1 in ./anaconda3/lib/python3.8/site-packages (from matplotlib==3.2.1) (1.2.0)\n",
      "Requirement already satisfied: numpy>=1.11 in ./anaconda3/lib/python3.8/site-packages (from matplotlib==3.2.1) (1.18.2)\n",
      "Requirement already satisfied: python-dateutil>=2.1 in ./anaconda3/lib/python3.8/site-packages (from matplotlib==3.2.1) (2.8.1)\n",
      "Requirement already satisfied: pyparsing!=2.0.4,!=2.1.2,!=2.1.6,>=2.0.1 in ./anaconda3/lib/python3.8/site-packages (from matplotlib==3.2.1) (2.4.7)\n",
      "Requirement already satisfied: six in ./anaconda3/lib/python3.8/site-packages (from cycler>=0.10->matplotlib==3.2.1) (1.15.0)\n",
      "Installing collected packages: matplotlib\n",
      "  Attempting uninstall: matplotlib\n",
      "    Found existing installation: matplotlib 3.2.2\n",
      "    Uninstalling matplotlib-3.2.2:\n",
      "      Successfully uninstalled matplotlib-3.2.2\n",
      "Successfully installed matplotlib-3.2.1\n"
     ]
    }
   ],
   "source": [
    "!pip3 install matplotlib==3.2.1"
   ]
  },
  {
   "cell_type": "code",
   "execution_count": 8,
   "metadata": {},
   "outputs": [
    {
     "name": "stdout",
     "output_type": "stream",
     "text": [
      "Collecting argparse==1.1\n",
      "  Downloading argparse-1.1.zip (151 kB)\n",
      "\u001b[K     |████████████████████████████████| 151 kB 513 kB/s eta 0:00:01\n",
      "\u001b[?25hBuilding wheels for collected packages: argparse\n",
      "  Building wheel for argparse (setup.py) ... \u001b[?25ldone\n",
      "\u001b[?25h  Created wheel for argparse: filename=argparse-1.1-py3-none-any.whl size=20733 sha256=63b87aa1b28fe6cf3923e68c761f6a06d614012608744ee5d1c46709ed9883d1\n",
      "  Stored in directory: /home/vivek.m@ah.zymrinc.com/.cache/pip/wheels/d0/68/91/4c925489871c1ce2acad928e9276e24f63441cbc58fcbfcbf0\n",
      "Successfully built argparse\n",
      "Installing collected packages: argparse\n",
      "Successfully installed argparse-1.1\n"
     ]
    }
   ],
   "source": [
    "!pip3 install argparse==1.1"
   ]
  },
  {
   "cell_type": "code",
   "execution_count": 9,
   "metadata": {},
   "outputs": [
    {
     "name": "stdout",
     "output_type": "stream",
     "text": [
      "Requirement already satisfied: scipy==1.4.1 in ./anaconda3/lib/python3.8/site-packages (1.4.1)\n",
      "Requirement already satisfied: numpy>=1.13.3 in ./anaconda3/lib/python3.8/site-packages (from scipy==1.4.1) (1.18.2)\n"
     ]
    }
   ],
   "source": [
    "!pip3 install scipy==1.4.1"
   ]
  },
  {
   "cell_type": "code",
   "execution_count": 10,
   "metadata": {},
   "outputs": [
    {
     "name": "stdout",
     "output_type": "stream",
     "text": [
      "Requirement already satisfied: scikit-learn==0.23.1 in ./anaconda3/lib/python3.8/site-packages (0.23.1)\n",
      "Requirement already satisfied: numpy>=1.13.3 in ./anaconda3/lib/python3.8/site-packages (from scikit-learn==0.23.1) (1.18.2)\n",
      "Requirement already satisfied: scipy>=0.19.1 in ./anaconda3/lib/python3.8/site-packages (from scikit-learn==0.23.1) (1.4.1)\n",
      "Requirement already satisfied: threadpoolctl>=2.0.0 in ./anaconda3/lib/python3.8/site-packages (from scikit-learn==0.23.1) (2.1.0)\n",
      "Requirement already satisfied: joblib>=0.11 in ./anaconda3/lib/python3.8/site-packages (from scikit-learn==0.23.1) (0.16.0)\n"
     ]
    }
   ],
   "source": [
    "!pip3 install scikit-learn==0.23.1"
   ]
  },
  {
   "cell_type": "code",
   "execution_count": 11,
   "metadata": {},
   "outputs": [
    {
     "name": "stdout",
     "output_type": "stream",
     "text": [
      "Requirement already satisfied: pillow==7.2.0 in ./anaconda3/lib/python3.8/site-packages (7.2.0)\r\n"
     ]
    }
   ],
   "source": [
    "!pip3 install pillow==7.2.0\n"
   ]
  },
  {
   "cell_type": "code",
   "execution_count": 12,
   "metadata": {},
   "outputs": [
    {
     "name": "stdout",
     "output_type": "stream",
     "text": [
      "Collecting streamlit\n",
      "  Downloading streamlit-0.65.2-py2.py3-none-any.whl (7.2 MB)\n",
      "\u001b[K     |████████████████████████████████| 7.2 MB 329 kB/s eta 0:00:01\n",
      "\u001b[?25hCollecting botocore>=1.13.44\n",
      "  Downloading botocore-1.17.48-py2.py3-none-any.whl (6.5 MB)\n",
      "\u001b[K     |████████████████████████████████| 6.5 MB 132 kB/s eta 0:00:01     |████████████████████████▋       | 5.0 MB 52 kB/s eta 0:00:29\n",
      "\u001b[?25hRequirement already satisfied: tornado>=5.0 in ./anaconda3/lib/python3.8/site-packages (from streamlit) (6.0.4)\n",
      "Requirement already satisfied: packaging in ./anaconda3/lib/python3.8/site-packages (from streamlit) (20.4)\n",
      "Requirement already satisfied: click>=7.0 in ./anaconda3/lib/python3.8/site-packages (from streamlit) (7.1.2)\n",
      "Collecting pydeck>=0.1.dev5\n",
      "  Downloading pydeck-0.5.0b1-py2.py3-none-any.whl (4.4 MB)\n",
      "\u001b[K     |████████████████████████████████| 4.4 MB 160 kB/s eta 0:00:01     |██▌                             | 348 kB 36 kB/s eta 0:01:50\n",
      "\u001b[?25hCollecting tzlocal\n",
      "  Downloading tzlocal-2.1-py2.py3-none-any.whl (16 kB)\n",
      "Collecting validators\n",
      "  Downloading validators-0.18.0-py3-none-any.whl (18 kB)\n",
      "Requirement already satisfied: protobuf>=3.6.0 in ./anaconda3/lib/python3.8/site-packages (from streamlit) (3.13.0)\n",
      "Requirement already satisfied: requests in ./anaconda3/lib/python3.8/site-packages (from streamlit) (2.24.0)\n",
      "Requirement already satisfied: pillow>=6.2.0 in ./anaconda3/lib/python3.8/site-packages (from streamlit) (7.2.0)\n",
      "Collecting pyarrow\n",
      "  Downloading pyarrow-1.0.1-cp38-cp38-manylinux2014_x86_64.whl (17.3 MB)\n",
      "\u001b[K     |████████████████████████████████| 17.3 MB 34 kB/s eta 0:00:012\n",
      "\u001b[?25hRequirement already satisfied: watchdog in ./anaconda3/lib/python3.8/site-packages (from streamlit) (0.10.3)\n",
      "Collecting enum-compat\n",
      "  Downloading enum_compat-0.0.3-py3-none-any.whl (1.3 kB)\n",
      "Collecting astor\n",
      "  Downloading astor-0.8.1-py2.py3-none-any.whl (27 kB)\n",
      "Requirement already satisfied: numpy in ./anaconda3/lib/python3.8/site-packages (from streamlit) (1.18.2)\n",
      "Requirement already satisfied: pandas>=0.21.0 in ./anaconda3/lib/python3.8/site-packages (from streamlit) (1.0.5)\n",
      "Collecting base58\n",
      "  Downloading base58-2.0.1-py3-none-any.whl (4.3 kB)\n",
      "Requirement already satisfied: python-dateutil in ./anaconda3/lib/python3.8/site-packages (from streamlit) (2.8.1)\n",
      "Collecting boto3\n",
      "  Downloading boto3-1.14.48-py2.py3-none-any.whl (129 kB)\n",
      "\u001b[K     |████████████████████████████████| 129 kB 164 kB/s eta 0:00:01\n",
      "\u001b[?25hRequirement already satisfied: cachetools>=4.0 in ./anaconda3/lib/python3.8/site-packages (from streamlit) (4.1.1)\n",
      "Collecting altair>=3.2.0\n",
      "  Downloading altair-4.1.0-py3-none-any.whl (727 kB)\n",
      "\u001b[K     |████████████████████████████████| 727 kB 268 kB/s eta 0:00:01\n",
      "\u001b[?25hCollecting blinker\n",
      "  Downloading blinker-1.4.tar.gz (111 kB)\n",
      "\u001b[K     |████████████████████████████████| 111 kB 174 kB/s eta 0:00:01\n",
      "\u001b[?25hRequirement already satisfied: toml in ./anaconda3/lib/python3.8/site-packages (from streamlit) (0.10.1)\n",
      "Collecting docutils<0.16,>=0.10\n",
      "  Downloading docutils-0.15.2-py3-none-any.whl (547 kB)\n",
      "\u001b[K     |████████████████████████████████| 547 kB 161 kB/s eta 0:00:01\n",
      "\u001b[?25hCollecting jmespath<1.0.0,>=0.7.1\n",
      "  Downloading jmespath-0.10.0-py2.py3-none-any.whl (24 kB)\n",
      "Requirement already satisfied: urllib3<1.26,>=1.20; python_version != \"3.4\" in ./anaconda3/lib/python3.8/site-packages (from botocore>=1.13.44->streamlit) (1.25.9)\n",
      "Requirement already satisfied: pyparsing>=2.0.2 in ./anaconda3/lib/python3.8/site-packages (from packaging->streamlit) (2.4.7)\n",
      "Requirement already satisfied: six in ./anaconda3/lib/python3.8/site-packages (from packaging->streamlit) (1.15.0)\n",
      "Requirement already satisfied: ipywidgets>=7.0.0 in ./anaconda3/lib/python3.8/site-packages (from pydeck>=0.1.dev5->streamlit) (7.5.1)\n",
      "Requirement already satisfied: ipykernel>=5.1.2; python_version >= \"3.4\" in ./anaconda3/lib/python3.8/site-packages (from pydeck>=0.1.dev5->streamlit) (5.3.2)\n",
      "Requirement already satisfied: traitlets>=4.3.2 in ./anaconda3/lib/python3.8/site-packages (from pydeck>=0.1.dev5->streamlit) (4.3.3)\n",
      "Requirement already satisfied: jinja2>=2.10.1 in ./anaconda3/lib/python3.8/site-packages (from pydeck>=0.1.dev5->streamlit) (2.11.2)\n",
      "Requirement already satisfied: pytz in ./anaconda3/lib/python3.8/site-packages (from tzlocal->streamlit) (2020.1)\n",
      "Requirement already satisfied: decorator>=3.4.0 in ./anaconda3/lib/python3.8/site-packages (from validators->streamlit) (4.4.2)\n",
      "Requirement already satisfied: setuptools in ./anaconda3/lib/python3.8/site-packages (from protobuf>=3.6.0->streamlit) (49.2.0.post20200714)\n",
      "Requirement already satisfied: chardet<4,>=3.0.2 in ./anaconda3/lib/python3.8/site-packages (from requests->streamlit) (3.0.4)\n",
      "Requirement already satisfied: idna<3,>=2.5 in ./anaconda3/lib/python3.8/site-packages (from requests->streamlit) (2.10)\n",
      "Requirement already satisfied: certifi>=2017.4.17 in ./anaconda3/lib/python3.8/site-packages (from requests->streamlit) (2020.6.20)\n",
      "Requirement already satisfied: pathtools>=0.1.1 in ./anaconda3/lib/python3.8/site-packages (from watchdog->streamlit) (0.1.2)\n",
      "Collecting s3transfer<0.4.0,>=0.3.0\n",
      "  Downloading s3transfer-0.3.3-py2.py3-none-any.whl (69 kB)\n",
      "\u001b[K     |████████████████████████████████| 69 kB 158 kB/s eta 0:00:01\n",
      "\u001b[?25hRequirement already satisfied: jsonschema in ./anaconda3/lib/python3.8/site-packages (from altair>=3.2.0->streamlit) (3.2.0)\n",
      "Requirement already satisfied: entrypoints in ./anaconda3/lib/python3.8/site-packages (from altair>=3.2.0->streamlit) (0.3)\n",
      "Requirement already satisfied: toolz in ./anaconda3/lib/python3.8/site-packages (from altair>=3.2.0->streamlit) (0.10.0)\n",
      "Requirement already satisfied: nbformat>=4.2.0 in ./anaconda3/lib/python3.8/site-packages (from ipywidgets>=7.0.0->pydeck>=0.1.dev5->streamlit) (5.0.7)\n",
      "Requirement already satisfied: ipython>=4.0.0; python_version >= \"3.3\" in ./anaconda3/lib/python3.8/site-packages (from ipywidgets>=7.0.0->pydeck>=0.1.dev5->streamlit) (7.16.1)\n",
      "Requirement already satisfied: widgetsnbextension~=3.5.0 in ./anaconda3/lib/python3.8/site-packages (from ipywidgets>=7.0.0->pydeck>=0.1.dev5->streamlit) (3.5.1)\n",
      "Requirement already satisfied: jupyter-client in ./anaconda3/lib/python3.8/site-packages (from ipykernel>=5.1.2; python_version >= \"3.4\"->pydeck>=0.1.dev5->streamlit) (6.1.6)\n",
      "Requirement already satisfied: ipython-genutils in ./anaconda3/lib/python3.8/site-packages (from traitlets>=4.3.2->pydeck>=0.1.dev5->streamlit) (0.2.0)\n",
      "Requirement already satisfied: MarkupSafe>=0.23 in ./anaconda3/lib/python3.8/site-packages (from jinja2>=2.10.1->pydeck>=0.1.dev5->streamlit) (1.1.1)\n",
      "Requirement already satisfied: pyrsistent>=0.14.0 in ./anaconda3/lib/python3.8/site-packages (from jsonschema->altair>=3.2.0->streamlit) (0.16.0)\n",
      "Requirement already satisfied: attrs>=17.4.0 in ./anaconda3/lib/python3.8/site-packages (from jsonschema->altair>=3.2.0->streamlit) (19.3.0)\n",
      "Requirement already satisfied: jupyter-core in ./anaconda3/lib/python3.8/site-packages (from nbformat>=4.2.0->ipywidgets>=7.0.0->pydeck>=0.1.dev5->streamlit) (4.6.3)\n",
      "Requirement already satisfied: backcall in ./anaconda3/lib/python3.8/site-packages (from ipython>=4.0.0; python_version >= \"3.3\"->ipywidgets>=7.0.0->pydeck>=0.1.dev5->streamlit) (0.2.0)\n",
      "Requirement already satisfied: jedi>=0.10 in ./anaconda3/lib/python3.8/site-packages (from ipython>=4.0.0; python_version >= \"3.3\"->ipywidgets>=7.0.0->pydeck>=0.1.dev5->streamlit) (0.17.1)\n",
      "Requirement already satisfied: pexpect; sys_platform != \"win32\" in ./anaconda3/lib/python3.8/site-packages (from ipython>=4.0.0; python_version >= \"3.3\"->ipywidgets>=7.0.0->pydeck>=0.1.dev5->streamlit) (4.8.0)\n",
      "Requirement already satisfied: pickleshare in ./anaconda3/lib/python3.8/site-packages (from ipython>=4.0.0; python_version >= \"3.3\"->ipywidgets>=7.0.0->pydeck>=0.1.dev5->streamlit) (0.7.5)\n",
      "Requirement already satisfied: prompt-toolkit!=3.0.0,!=3.0.1,<3.1.0,>=2.0.0 in ./anaconda3/lib/python3.8/site-packages (from ipython>=4.0.0; python_version >= \"3.3\"->ipywidgets>=7.0.0->pydeck>=0.1.dev5->streamlit) (3.0.5)\n",
      "Requirement already satisfied: pygments in ./anaconda3/lib/python3.8/site-packages (from ipython>=4.0.0; python_version >= \"3.3\"->ipywidgets>=7.0.0->pydeck>=0.1.dev5->streamlit) (2.6.1)\n",
      "Requirement already satisfied: notebook>=4.4.1 in ./anaconda3/lib/python3.8/site-packages (from widgetsnbextension~=3.5.0->ipywidgets>=7.0.0->pydeck>=0.1.dev5->streamlit) (6.0.3)\n",
      "Requirement already satisfied: pyzmq>=13 in ./anaconda3/lib/python3.8/site-packages (from jupyter-client->ipykernel>=5.1.2; python_version >= \"3.4\"->pydeck>=0.1.dev5->streamlit) (19.0.1)\n",
      "Requirement already satisfied: parso<0.8.0,>=0.7.0 in ./anaconda3/lib/python3.8/site-packages (from jedi>=0.10->ipython>=4.0.0; python_version >= \"3.3\"->ipywidgets>=7.0.0->pydeck>=0.1.dev5->streamlit) (0.7.0)\n",
      "Requirement already satisfied: ptyprocess>=0.5 in ./anaconda3/lib/python3.8/site-packages (from pexpect; sys_platform != \"win32\"->ipython>=4.0.0; python_version >= \"3.3\"->ipywidgets>=7.0.0->pydeck>=0.1.dev5->streamlit) (0.6.0)\n",
      "Requirement already satisfied: wcwidth in ./anaconda3/lib/python3.8/site-packages (from prompt-toolkit!=3.0.0,!=3.0.1,<3.1.0,>=2.0.0->ipython>=4.0.0; python_version >= \"3.3\"->ipywidgets>=7.0.0->pydeck>=0.1.dev5->streamlit) (0.2.5)\n",
      "Requirement already satisfied: Send2Trash in ./anaconda3/lib/python3.8/site-packages (from notebook>=4.4.1->widgetsnbextension~=3.5.0->ipywidgets>=7.0.0->pydeck>=0.1.dev5->streamlit) (1.5.0)\n",
      "Requirement already satisfied: prometheus-client in ./anaconda3/lib/python3.8/site-packages (from notebook>=4.4.1->widgetsnbextension~=3.5.0->ipywidgets>=7.0.0->pydeck>=0.1.dev5->streamlit) (0.8.0)\n",
      "Requirement already satisfied: terminado>=0.8.1 in ./anaconda3/lib/python3.8/site-packages (from notebook>=4.4.1->widgetsnbextension~=3.5.0->ipywidgets>=7.0.0->pydeck>=0.1.dev5->streamlit) (0.8.3)\n",
      "Requirement already satisfied: nbconvert in ./anaconda3/lib/python3.8/site-packages (from notebook>=4.4.1->widgetsnbextension~=3.5.0->ipywidgets>=7.0.0->pydeck>=0.1.dev5->streamlit) (5.6.1)\n",
      "Requirement already satisfied: pandocfilters>=1.4.1 in ./anaconda3/lib/python3.8/site-packages (from nbconvert->notebook>=4.4.1->widgetsnbextension~=3.5.0->ipywidgets>=7.0.0->pydeck>=0.1.dev5->streamlit) (1.4.2)\n",
      "Requirement already satisfied: testpath in ./anaconda3/lib/python3.8/site-packages (from nbconvert->notebook>=4.4.1->widgetsnbextension~=3.5.0->ipywidgets>=7.0.0->pydeck>=0.1.dev5->streamlit) (0.4.4)\n",
      "Requirement already satisfied: defusedxml in ./anaconda3/lib/python3.8/site-packages (from nbconvert->notebook>=4.4.1->widgetsnbextension~=3.5.0->ipywidgets>=7.0.0->pydeck>=0.1.dev5->streamlit) (0.6.0)\n",
      "Requirement already satisfied: mistune<2,>=0.8.1 in ./anaconda3/lib/python3.8/site-packages (from nbconvert->notebook>=4.4.1->widgetsnbextension~=3.5.0->ipywidgets>=7.0.0->pydeck>=0.1.dev5->streamlit) (0.8.4)\n",
      "Requirement already satisfied: bleach in ./anaconda3/lib/python3.8/site-packages (from nbconvert->notebook>=4.4.1->widgetsnbextension~=3.5.0->ipywidgets>=7.0.0->pydeck>=0.1.dev5->streamlit) (3.1.5)\n",
      "Requirement already satisfied: webencodings in ./anaconda3/lib/python3.8/site-packages (from bleach->nbconvert->notebook>=4.4.1->widgetsnbextension~=3.5.0->ipywidgets>=7.0.0->pydeck>=0.1.dev5->streamlit) (0.5.1)\n",
      "Building wheels for collected packages: blinker\n",
      "  Building wheel for blinker (setup.py) ... \u001b[?25ldone\n",
      "\u001b[?25h  Created wheel for blinker: filename=blinker-1.4-py3-none-any.whl size=13452 sha256=5ba7e50dbd9ae429a9e06556ef3d86314a6788e50b13f868bf1de1e1246cd46e\n",
      "  Stored in directory: /home/vivek.m@ah.zymrinc.com/.cache/pip/wheels/b7/a5/68/fe632054a5eadd531c7a49d740c50eb6adfbeca822b4eab8d4\n",
      "Successfully built blinker\n",
      "Installing collected packages: docutils, jmespath, botocore, pydeck, tzlocal, validators, pyarrow, enum-compat, astor, base58, s3transfer, boto3, altair, blinker, streamlit\n",
      "  Attempting uninstall: docutils\n",
      "    Found existing installation: docutils 0.16\n",
      "    Uninstalling docutils-0.16:\n",
      "      Successfully uninstalled docutils-0.16\n",
      "Successfully installed altair-4.1.0 astor-0.8.1 base58-2.0.1 blinker-1.4 boto3-1.14.48 botocore-1.17.48 docutils-0.15.2 enum-compat-0.0.3 jmespath-0.10.0 pyarrow-1.0.1 pydeck-0.5.0b1 s3transfer-0.3.3 streamlit-0.65.2 tzlocal-2.1 validators-0.18.0\n"
     ]
    }
   ],
   "source": [
    "!pip3 install streamlit"
   ]
  },
  {
   "cell_type": "code",
   "execution_count": 3,
   "metadata": {},
   "outputs": [
    {
     "name": "stdout",
     "output_type": "stream",
     "text": [
      "fatal: destination path 'Face-Mask-Detection' already exists and is not an empty directory.\r\n"
     ]
    }
   ],
   "source": [
    "!git clone https://github.com/chandrikadeb7/Face-Mask-Detection.git"
   ]
  },
  {
   "cell_type": "code",
   "execution_count": 4,
   "metadata": {},
   "outputs": [
    {
     "name": "stdout",
     "output_type": "stream",
     "text": [
      "/home/vivek.m@ah.zymrinc.com\r\n"
     ]
    }
   ],
   "source": [
    "!pwd"
   ]
  },
  {
   "cell_type": "code",
   "execution_count": 5,
   "metadata": {},
   "outputs": [
    {
     "name": "stdout",
     "output_type": "stream",
     "text": [
      "/home/vivek.m@ah.zymrinc.com/Face-Mask-Detection\n"
     ]
    }
   ],
   "source": [
    "%cd '/home/vivek.m@ah.zymrinc.com/Face-Mask-Detection'"
   ]
  },
  {
   "cell_type": "code",
   "execution_count": 6,
   "metadata": {},
   "outputs": [],
   "source": [
    "!python3 train_mask_detector.py --dataset dataset"
   ]
  },
  {
   "cell_type": "code",
   "execution_count": 24,
   "metadata": {
    "scrolled": false
   },
   "outputs": [
    {
     "name": "stdout",
     "output_type": "stream",
     "text": [
      "2020-08-27 16:38:13.301145: W tensorflow/stream_executor/platform/default/dso_loader.cc:59] Could not load dynamic library 'libcudart.so.10.1'; dlerror: libcudart.so.10.1: cannot open shared object file: No such file or directory\n",
      "2020-08-27 16:38:13.301190: I tensorflow/stream_executor/cuda/cudart_stub.cc:29] Ignore above cudart dlerror if you do not have a GPU set up on your machine.\n",
      "[INFO] loading face detector model...\n",
      "[INFO] loading face mask detector model...\n",
      "2020-08-27 16:38:15.031550: W tensorflow/stream_executor/platform/default/dso_loader.cc:59] Could not load dynamic library 'libcuda.so.1'; dlerror: libcuda.so.1: cannot open shared object file: No such file or directory\n",
      "2020-08-27 16:38:15.031598: W tensorflow/stream_executor/cuda/cuda_driver.cc:312] failed call to cuInit: UNKNOWN ERROR (303)\n",
      "2020-08-27 16:38:15.031630: I tensorflow/stream_executor/cuda/cuda_diagnostics.cc:156] kernel driver does not appear to be running on this host (vivek-m): /proc/driver/nvidia/version does not exist\n",
      "2020-08-27 16:38:15.031865: I tensorflow/core/platform/cpu_feature_guard.cc:142] This TensorFlow binary is optimized with oneAPI Deep Neural Network Library (oneDNN)to use the following CPU instructions in performance-critical operations:  AVX2 FMA\n",
      "To enable them in other operations, rebuild TensorFlow with the appropriate compiler flags.\n",
      "2020-08-27 16:38:15.057688: I tensorflow/core/platform/profile_utils/cpu_utils.cc:104] CPU Frequency: 1696055000 Hz\n",
      "2020-08-27 16:38:15.058152: I tensorflow/compiler/xla/service/service.cc:168] XLA service 0x55b23baf48a0 initialized for platform Host (this does not guarantee that XLA will be used). Devices:\n",
      "2020-08-27 16:38:15.058198: I tensorflow/compiler/xla/service/service.cc:176]   StreamExecutor device (0): Host, Default Version\n",
      "[INFO] computing face detections...\n"
     ]
    }
   ],
   "source": [
    "!python3 detect_mask_image.py --image images/B5BBA1B5-B97C-4233-9D97-58BC5903A7C7.JPG"
   ]
  },
  {
   "cell_type": "code",
   "execution_count": 25,
   "metadata": {},
   "outputs": [
    {
     "name": "stdout",
     "output_type": "stream",
     "text": [
      "2020-08-27 16:44:12.776762: W tensorflow/stream_executor/platform/default/dso_loader.cc:59] Could not load dynamic library 'libcudart.so.10.1'; dlerror: libcudart.so.10.1: cannot open shared object file: No such file or directory\n",
      "2020-08-27 16:44:12.776799: I tensorflow/stream_executor/cuda/cudart_stub.cc:29] Ignore above cudart dlerror if you do not have a GPU set up on your machine.\n",
      "[INFO] loading face detector model...\n",
      "[INFO] loading face mask detector model...\n",
      "2020-08-27 16:44:15.132964: W tensorflow/stream_executor/platform/default/dso_loader.cc:59] Could not load dynamic library 'libcuda.so.1'; dlerror: libcuda.so.1: cannot open shared object file: No such file or directory\n",
      "2020-08-27 16:44:15.133013: W tensorflow/stream_executor/cuda/cuda_driver.cc:312] failed call to cuInit: UNKNOWN ERROR (303)\n",
      "2020-08-27 16:44:15.133041: I tensorflow/stream_executor/cuda/cuda_diagnostics.cc:156] kernel driver does not appear to be running on this host (vivek-m): /proc/driver/nvidia/version does not exist\n",
      "2020-08-27 16:44:15.133250: I tensorflow/core/platform/cpu_feature_guard.cc:142] This TensorFlow binary is optimized with oneAPI Deep Neural Network Library (oneDNN)to use the following CPU instructions in performance-critical operations:  AVX2 FMA\n",
      "To enable them in other operations, rebuild TensorFlow with the appropriate compiler flags.\n",
      "2020-08-27 16:44:15.157724: I tensorflow/core/platform/profile_utils/cpu_utils.cc:104] CPU Frequency: 1696055000 Hz\n",
      "2020-08-27 16:44:15.158200: I tensorflow/compiler/xla/service/service.cc:168] XLA service 0x5604ddea62f0 initialized for platform Host (this does not guarantee that XLA will be used). Devices:\n",
      "2020-08-27 16:44:15.158262: I tensorflow/compiler/xla/service/service.cc:176]   StreamExecutor device (0): Host, Default Version\n",
      "[INFO] starting video stream...\n",
      "Traceback (most recent call last):\n",
      "  File \"detect_mask_video.py\", line 114, in <module>\n",
      "    (locs, preds) = detect_and_predict_mask(frame, faceNet, maskNet)\n",
      "  File \"detect_mask_video.py\", line 55, in detect_and_predict_mask\n",
      "    face = cv2.cvtColor(face, cv2.COLOR_BGR2RGB)\n",
      "cv2.error: OpenCV(4.2.0) /io/opencv/modules/imgproc/src/color.cpp:182: error: (-215:Assertion failed) !_src.empty() in function 'cvtColor'\n",
      "\n",
      "FATAL: exception not rethrown\n"
     ]
    }
   ],
   "source": [
    "!python3 detect_mask_video.py"
   ]
  },
  {
   "cell_type": "code",
   "execution_count": null,
   "metadata": {},
   "outputs": [],
   "source": []
  }
 ],
 "metadata": {
  "kernelspec": {
   "display_name": "Python 3",
   "language": "python",
   "name": "python3"
  },
  "language_info": {
   "codemirror_mode": {
    "name": "ipython",
    "version": 3
   },
   "file_extension": ".py",
   "mimetype": "text/x-python",
   "name": "python",
   "nbconvert_exporter": "python",
   "pygments_lexer": "ipython3",
   "version": "3.8.3"
  }
 },
 "nbformat": 4,
 "nbformat_minor": 4
}
